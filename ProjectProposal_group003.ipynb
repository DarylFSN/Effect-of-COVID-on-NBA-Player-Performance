{
 "cells": [
  {
   "cell_type": "markdown",
   "metadata": {},
   "source": [
    "# COGS 108 - Final Project Proposal"
   ]
  },
  {
   "cell_type": "markdown",
   "metadata": {},
   "source": [
    "# Names\n",
    "\n",
    "- Jason Lin\n",
    "- Aryaman Sinha\n",
    "- Daryl Foo\n",
    "- Jonny Tran\n",
    "- Nathan Brodie"
   ]
  },
  {
   "cell_type": "markdown",
   "metadata": {},
   "source": [
    "# Research Question"
   ]
  },
  {
   "cell_type": "markdown",
   "metadata": {},
   "source": [
    "What was the effect of the COVID pandemic on the revenue of different sports?"
   ]
  },
  {
   "cell_type": "markdown",
   "metadata": {},
   "source": [
    "## Background and Prior Work"
   ]
  },
  {
   "cell_type": "markdown",
   "metadata": {},
   "source": [
    "References (include links):\n",
    "- 1) COVID hurt the revenues of many markets around the world and sports revenue was also impacted. https://miuc.org/impact-covid-crisis-sport-industry/ \n",
    "- 2) While a lot of streams of entertainment adapted to virtual environments, conducting and organizing sporting events was a logistical challenge and led to a decline in ratings. https://www.usatoday.com/story/sports/media/2020/10/08/pandemic-why-tv-ratings-sports-have-been-down-since-returning/5913720002/ \n",
    "- 3) Sports receive revenue in a multitude of ways and these could have been impacted differently by the COVID pandemic. For example, the NBA receives revenue from advertising, sponsorships, and by other means. https://www.investopedia.com/articles/personal-finance/071415/how-nba-makes-money.asp \n",
    "- 4) Athlete injuries and health also become a major concern and sports in the last year have seen more injuries than other years.\n",
    "https://healthmatters.nyp.org/why-athletes-are-more-susceptible-to-injuries-amid-the-covid-pandemic-and-how-to-prevent-them/ \n"
   ]
  },
  {
   "cell_type": "markdown",
   "metadata": {},
   "source": [
    "# Hypothesis\n"
   ]
  },
  {
   "cell_type": "markdown",
   "metadata": {},
   "source": [
    "The COVID pandemic affected the revenue of sports negatively as the sales of tickets to sports competitions was not available due to lockdown constraints. Individual sports and sports with less in person fans' revenues were affected less negatively compared to team sports and sports with large amounts of in person fans."
   ]
  },
  {
   "cell_type": "markdown",
   "metadata": {},
   "source": [
    "# Data"
   ]
  },
  {
   "cell_type": "markdown",
   "metadata": {},
   "source": [
    "Our ideal dataset would be a dataset of monthly revenue for different sports collected before the pandemic period of time as well as after the pandemic period. Preferably we would like to gather data that separates the revenue from tickets, advertisement, food sale during the game in order to see in which categories the revenue was seriously affected by the pandemic. We would like this dataset to be from a reputable source hopefully from the organizers of the game itself and stored as clean, structured data."
   ]
  },
  {
   "cell_type": "markdown",
   "metadata": {},
   "source": [
    "# Ethics & Privacy"
   ]
  },
  {
   "cell_type": "markdown",
   "metadata": {},
   "source": [
    "The potential ethical problems that could occur with this data project is that we could potentially reveal financial information that an industry would rather have hidden. Revealing this information without permission from that industry could result in competitors to take advantage of the financial information to adjust their business practices to pressure the industry or have stakeholders change how much money they would wish to give the sports industry. To counteract this problem, we should only use data that has been made publicly available by the industry that would be affected by our project. We would also need to be careful to try and make appropriate conclusions based on the data that we are given. We should not make claims of causation if there is no data to prove that causation. It could also be important to include background information of what the sports industry is doing to combat the pandemic issue to provide context on the situation."
   ]
  },
  {
   "cell_type": "markdown",
   "metadata": {},
   "source": [
    "# Team Expectations "
   ]
  },
  {
   "cell_type": "markdown",
   "metadata": {},
   "source": [
    "* Evenly split the amount of work between teammates.\n",
    "* Everyone complete their assigned tasks\n",
    "* Show up to team meetings\n",
    "* Clear communication on what each team member is doing and why they’re doing it"
   ]
  },
  {
   "cell_type": "markdown",
   "metadata": {},
   "source": [
    "# Project Timeline Proposal"
   ]
  },
  {
   "cell_type": "markdown",
   "metadata": {},
   "source": [
    "| Meeting Date  | Meeting Time| Completed Before Meeting  | Discuss at Meeting |\n",
    "|---|---|---|---|\n",
    "| 1/20  |  11 AM | Determine a time and day for weekly meetings | Review the previous project assigned to us |\n",
    "| 1/27  |  11 AM |  Think about possible topic ideas | Decide on a topic and fill out the project proposal |\n",
    "| 2/3  | 11 AM  | Find possible datasets  | Go over datasets and figure out what we collectively have towards our topic, decide roles |\n",
    "| 2/10  | 11 AM  | Import & Wrangle Data (TBD); EDA (TBD) | Review/Edit wrangling/EDA; Discuss Analysis Plan   |\n",
    "| 2/17  | 11 AM  | Finalize wrangling/EDA; Begin Analysis (TBD) | Discuss/edit Analysis; Complete project check-in |\n",
    "| 2/24  | 11 AM  | Project Work| Discuss project work |\n",
    "| 3/3  | 11 AM  | Project Work | Discuss project work |\n",
    "| 3/10 | 11 AM | Project Work | Discuss project work |\n",
    "| 3/17 | 11 AM | Do finishing touches on project | Go over with the whole group and turn it in |"
   ]
  },
  {
   "cell_type": "code",
   "execution_count": null,
   "metadata": {},
   "outputs": [],
   "source": []
  }
 ],
 "metadata": {
  "kernelspec": {
   "display_name": "Python 3",
   "language": "python",
   "name": "python3"
  },
  "language_info": {
   "codemirror_mode": {
    "name": "ipython",
    "version": 3
   },
   "file_extension": ".py",
   "mimetype": "text/x-python",
   "name": "python",
   "nbconvert_exporter": "python",
   "pygments_lexer": "ipython3",
   "version": "3.7.6"
  }
 },
 "nbformat": 4,
 "nbformat_minor": 2
}
