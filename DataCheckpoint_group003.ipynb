{
 "cells": [
  {
   "cell_type": "markdown",
   "metadata": {},
   "source": [
    "# COGS 108 - Data Checkpoint"
   ]
  },
  {
   "cell_type": "markdown",
   "metadata": {},
   "source": [
    "# Names\n",
    "\n",
    "- Aryaman Sinha\n",
    "- Daryl Foo\n",
    "- Jason Lin\n",
    "- Jonny Tran\n",
    "- Nathan Brodie"
   ]
  },
  {
   "cell_type": "markdown",
   "metadata": {},
   "source": [
    "<a id='research_question'></a>\n",
    "# Research Question"
   ]
  },
  {
   "cell_type": "markdown",
   "metadata": {},
   "source": [
    "How did the 2019-20 NBA Bubble affect player performance in the 2019-20 playoffs compared to that of the previous 5 years (2014-15 to 2018-19)?"
   ]
  },
  {
   "cell_type": "markdown",
   "metadata": {},
   "source": [
    "# Dataset(s)"
   ]
  },
  {
   "cell_type": "markdown",
   "metadata": {},
   "source": [
    "1) Description: NBA Player Game Statistics during the 2019-20 Playoffs (in the NBA bubble)\n",
    "- Dataset Name: NBA Advanced Stats 2019-20\n",
    "- Link to the dataset: https://www.nba.com/stats/players/traditional/?sort=PLAYER_NAME&dir=-1&Season=2019-20&SeasonType=Playoffs\n",
    "- Number of observations: 217\n",
    "\n",
    "2) Description: NBA Player Game Statistics during the 2018-19 Playoffs (1 year before the NBA bubble)\n",
    "- Dataset Name: NBA Advanced Stats 2018-19\n",
    "- Link to the dataset: https://www.nba.com/stats/players/traditional/?sort=PLAYER_NAME&dir=-1&Season=2018-19&SeasonType=Playoffs\n",
    "- Number of observations: 212\n",
    "\n",
    "\n",
    "3) Description: NBA Player Game Statistics during the 2017-18 Playoffs (2 years before the NBA bubble)\n",
    "- Dataset Name: NBA Advanced Stats 2017-18\n",
    "- Link to the dataset: https://www.nba.com/stats/players/traditional/?sort=PLAYER_NAME&dir=-1&Season=2017-18&SeasonType=Playoffs\n",
    "- Number of observations: 210\n",
    "\n",
    "4) Description: NBA Player Game Statistics during the 2016-17 Playoffs (3 years before the NBA bubble)\n",
    "- Dataset Name: NBA Advanced Stats 2016-17\n",
    "- Link to the dataset: https://www.nba.com/stats/players/traditional/?sort=PLAYER_NAME&dir=-1&Season=2016-17&SeasonType=Playoffs\n",
    "- Number of observations: 215\n",
    "\n",
    "5) Description: NBA Player Game Statistics during the 2015-16 Playoffs (4 years before the NBA bubble)\n",
    "- Dataset Name: NBA Advanced Stats 2015-16\n",
    "- Link to the dataset: https://www.nba.com/stats/players/traditional/?sort=PLAYER_NAME&dir=-1&Season=2015-16&SeasonType=Playoffs\n",
    "- Number of observations: 215\n",
    "\n",
    "6) Description: NBA Player Game Statistics during the 2014-15 Playoffs (5 years before the NBA bubble)\n",
    "- Dataset Name: NBA Advanced Stats 2014-15\n",
    "- Link to the dataset: https://www.nba.com/stats/players/traditional/?sort=PLAYER_NAME&dir=-1&Season=2014-15&SeasonType=Playoffs\n",
    "- Number of observations: 208\n",
    "\n",
    "\n"
   ]
  },
  {
   "cell_type": "markdown",
   "metadata": {},
   "source": [
    "The data will be divided into ”before” and “during” the NBA bubble. The data for “before the bubble” will include data from 5 years “before the bubble” (2014-15 to 2018-19). This data will then be aggregated to form the data for “before the bubble”. The data for “during the bubble” will only include data from the 2019-20 NBA playoffs"
   ]
  },
  {
   "cell_type": "markdown",
   "metadata": {},
   "source": [
    "# Setup"
   ]
  },
  {
   "cell_type": "code",
   "execution_count": 1,
   "metadata": {},
   "outputs": [],
   "source": [
    "import pandas as pd"
   ]
  },
  {
   "cell_type": "code",
   "execution_count": 7,
   "metadata": {},
   "outputs": [],
   "source": [
    "#Pre-Covid Data\n",
    "players1415 = pd.read_csv(\"DataSetup/nba_1415.csv\")\n",
    "players1516 = pd.read_csv(\"DataSetup/nba_1516.csv\")\n",
    "players1617 = pd.read_csv(\"DataSetup/nba_1617.csv\")\n",
    "players1718 = pd.read_csv(\"DataSetup/nba_1718.csv\")\n",
    "players1819 = pd.read_csv(\"DataSetup/nba_1819.csv\")\n",
    "\n",
    "#Bubble data\n",
    "players1920 = pd.read_csv(\"DataSetup/nba_1920.csv\")"
   ]
  },
  {
   "cell_type": "code",
   "execution_count": 8,
   "metadata": {},
   "outputs": [
    {
     "data": {
      "text/html": [
       "<div>\n",
       "<style scoped>\n",
       "    .dataframe tbody tr th:only-of-type {\n",
       "        vertical-align: middle;\n",
       "    }\n",
       "\n",
       "    .dataframe tbody tr th {\n",
       "        vertical-align: top;\n",
       "    }\n",
       "\n",
       "    .dataframe thead th {\n",
       "        text-align: right;\n",
       "    }\n",
       "</style>\n",
       "<table border=\"1\" class=\"dataframe\">\n",
       "  <thead>\n",
       "    <tr style=\"text-align: right;\">\n",
       "      <th></th>\n",
       "      <th>PLAYER</th>\n",
       "      <th>TEAM</th>\n",
       "      <th>AGE</th>\n",
       "      <th>GP</th>\n",
       "      <th>W</th>\n",
       "      <th>L</th>\n",
       "      <th>MIN</th>\n",
       "      <th>PTS</th>\n",
       "      <th>FGM</th>\n",
       "      <th>FGA</th>\n",
       "      <th>...</th>\n",
       "      <th>REB</th>\n",
       "      <th>AST</th>\n",
       "      <th>TOV</th>\n",
       "      <th>STL</th>\n",
       "      <th>BLK</th>\n",
       "      <th>PF</th>\n",
       "      <th>FP</th>\n",
       "      <th>DD2</th>\n",
       "      <th>TD3</th>\n",
       "      <th>+/-</th>\n",
       "    </tr>\n",
       "  </thead>\n",
       "  <tbody>\n",
       "    <tr>\n",
       "      <td>0</td>\n",
       "      <td>Aaron Holiday</td>\n",
       "      <td>IND</td>\n",
       "      <td>23</td>\n",
       "      <td>4</td>\n",
       "      <td>0</td>\n",
       "      <td>4</td>\n",
       "      <td>18.0</td>\n",
       "      <td>7.8</td>\n",
       "      <td>3.0</td>\n",
       "      <td>5.3</td>\n",
       "      <td>...</td>\n",
       "      <td>1.3</td>\n",
       "      <td>2.5</td>\n",
       "      <td>1.0</td>\n",
       "      <td>1.0</td>\n",
       "      <td>0.0</td>\n",
       "      <td>2.5</td>\n",
       "      <td>15.0</td>\n",
       "      <td>0</td>\n",
       "      <td>0</td>\n",
       "      <td>-10.8</td>\n",
       "    </tr>\n",
       "    <tr>\n",
       "      <td>1</td>\n",
       "      <td>Abdel Nader</td>\n",
       "      <td>OKC</td>\n",
       "      <td>26</td>\n",
       "      <td>3</td>\n",
       "      <td>0</td>\n",
       "      <td>3</td>\n",
       "      <td>8.5</td>\n",
       "      <td>1.3</td>\n",
       "      <td>0.3</td>\n",
       "      <td>2.3</td>\n",
       "      <td>...</td>\n",
       "      <td>1.0</td>\n",
       "      <td>0.0</td>\n",
       "      <td>0.0</td>\n",
       "      <td>0.3</td>\n",
       "      <td>0.7</td>\n",
       "      <td>0.3</td>\n",
       "      <td>5.5</td>\n",
       "      <td>0</td>\n",
       "      <td>0</td>\n",
       "      <td>-7.0</td>\n",
       "    </tr>\n",
       "    <tr>\n",
       "      <td>2</td>\n",
       "      <td>Al Horford</td>\n",
       "      <td>PHI</td>\n",
       "      <td>34</td>\n",
       "      <td>4</td>\n",
       "      <td>0</td>\n",
       "      <td>4</td>\n",
       "      <td>32.1</td>\n",
       "      <td>7.0</td>\n",
       "      <td>3.0</td>\n",
       "      <td>6.3</td>\n",
       "      <td>...</td>\n",
       "      <td>7.3</td>\n",
       "      <td>2.3</td>\n",
       "      <td>0.8</td>\n",
       "      <td>0.3</td>\n",
       "      <td>1.3</td>\n",
       "      <td>3.5</td>\n",
       "      <td>22.8</td>\n",
       "      <td>1</td>\n",
       "      <td>0</td>\n",
       "      <td>-10.8</td>\n",
       "    </tr>\n",
       "    <tr>\n",
       "      <td>3</td>\n",
       "      <td>Alec Burks</td>\n",
       "      <td>PHI</td>\n",
       "      <td>28</td>\n",
       "      <td>4</td>\n",
       "      <td>0</td>\n",
       "      <td>4</td>\n",
       "      <td>23.7</td>\n",
       "      <td>10.5</td>\n",
       "      <td>4.0</td>\n",
       "      <td>12.3</td>\n",
       "      <td>...</td>\n",
       "      <td>3.8</td>\n",
       "      <td>1.8</td>\n",
       "      <td>0.8</td>\n",
       "      <td>0.3</td>\n",
       "      <td>0.8</td>\n",
       "      <td>1.8</td>\n",
       "      <td>19.9</td>\n",
       "      <td>0</td>\n",
       "      <td>0</td>\n",
       "      <td>-4.5</td>\n",
       "    </tr>\n",
       "    <tr>\n",
       "      <td>4</td>\n",
       "      <td>Alex Caruso</td>\n",
       "      <td>LAL</td>\n",
       "      <td>26</td>\n",
       "      <td>21</td>\n",
       "      <td>16</td>\n",
       "      <td>5</td>\n",
       "      <td>24.3</td>\n",
       "      <td>6.5</td>\n",
       "      <td>2.3</td>\n",
       "      <td>5.4</td>\n",
       "      <td>...</td>\n",
       "      <td>2.3</td>\n",
       "      <td>2.8</td>\n",
       "      <td>1.5</td>\n",
       "      <td>1.1</td>\n",
       "      <td>0.6</td>\n",
       "      <td>2.6</td>\n",
       "      <td>17.0</td>\n",
       "      <td>0</td>\n",
       "      <td>0</td>\n",
       "      <td>4.8</td>\n",
       "    </tr>\n",
       "  </tbody>\n",
       "</table>\n",
       "<p>5 rows × 29 columns</p>\n",
       "</div>"
      ],
      "text/plain": [
       "          PLAYER TEAM  AGE  GP   W  L   MIN   PTS  FGM   FGA  ...  REB  AST  \\\n",
       "0  Aaron Holiday  IND   23   4   0  4  18.0   7.8  3.0   5.3  ...  1.3  2.5   \n",
       "1    Abdel Nader  OKC   26   3   0  3   8.5   1.3  0.3   2.3  ...  1.0  0.0   \n",
       "2     Al Horford  PHI   34   4   0  4  32.1   7.0  3.0   6.3  ...  7.3  2.3   \n",
       "3     Alec Burks  PHI   28   4   0  4  23.7  10.5  4.0  12.3  ...  3.8  1.8   \n",
       "4    Alex Caruso  LAL   26  21  16  5  24.3   6.5  2.3   5.4  ...  2.3  2.8   \n",
       "\n",
       "   TOV  STL  BLK   PF    FP  DD2  TD3   +/-  \n",
       "0  1.0  1.0  0.0  2.5  15.0    0    0 -10.8  \n",
       "1  0.0  0.3  0.7  0.3   5.5    0    0  -7.0  \n",
       "2  0.8  0.3  1.3  3.5  22.8    1    0 -10.8  \n",
       "3  0.8  0.3  0.8  1.8  19.9    0    0  -4.5  \n",
       "4  1.5  1.1  0.6  2.6  17.0    0    0   4.8  \n",
       "\n",
       "[5 rows x 29 columns]"
      ]
     },
     "execution_count": 8,
     "metadata": {},
     "output_type": "execute_result"
    }
   ],
   "source": [
    "players1920.head()"
   ]
  },
  {
   "cell_type": "markdown",
   "metadata": {},
   "source": [
    "# Data Cleaning"
   ]
  },
  {
   "cell_type": "markdown",
   "metadata": {},
   "source": [
    "Describe your data cleaning steps here."
   ]
  },
  {
   "cell_type": "code",
   "execution_count": 9,
   "metadata": {},
   "outputs": [
    {
     "data": {
      "text/plain": [
       "False"
      ]
     },
     "execution_count": 9,
     "metadata": {},
     "output_type": "execute_result"
    }
   ],
   "source": [
    "players1415.isnull().values.any()"
   ]
  },
  {
   "cell_type": "code",
   "execution_count": 10,
   "metadata": {},
   "outputs": [
    {
     "data": {
      "text/plain": [
       "False"
      ]
     },
     "execution_count": 10,
     "metadata": {},
     "output_type": "execute_result"
    }
   ],
   "source": [
    "players1516.isnull().values.any()"
   ]
  },
  {
   "cell_type": "code",
   "execution_count": 11,
   "metadata": {},
   "outputs": [
    {
     "data": {
      "text/plain": [
       "False"
      ]
     },
     "execution_count": 11,
     "metadata": {},
     "output_type": "execute_result"
    }
   ],
   "source": [
    "players1617.isnull().values.any()"
   ]
  },
  {
   "cell_type": "code",
   "execution_count": 12,
   "metadata": {},
   "outputs": [
    {
     "data": {
      "text/plain": [
       "False"
      ]
     },
     "execution_count": 12,
     "metadata": {},
     "output_type": "execute_result"
    }
   ],
   "source": [
    "players1718.isnull().values.any()"
   ]
  },
  {
   "cell_type": "code",
   "execution_count": 13,
   "metadata": {},
   "outputs": [
    {
     "data": {
      "text/plain": [
       "False"
      ]
     },
     "execution_count": 13,
     "metadata": {},
     "output_type": "execute_result"
    }
   ],
   "source": [
    "players1819.isnull().values.any()"
   ]
  },
  {
   "cell_type": "code",
   "execution_count": 14,
   "metadata": {},
   "outputs": [
    {
     "data": {
      "text/plain": [
       "False"
      ]
     },
     "execution_count": 14,
     "metadata": {},
     "output_type": "execute_result"
    }
   ],
   "source": [
    "players1920.isnull().values.any()"
   ]
  },
  {
   "cell_type": "markdown",
   "metadata": {},
   "source": [
    "As there are no missing values and the columns are named well-enough for our interpretation, there is no data cleaning needed here."
   ]
  },
  {
   "cell_type": "markdown",
   "metadata": {},
   "source": [
    "# Project Proposal (updated)"
   ]
  },
  {
   "cell_type": "markdown",
   "metadata": {},
   "source": [
    "| Meeting Date  | Meeting Time| Completed Before Meeting  | Discuss at Meeting |\n",
    "|---|---|---|---|\n",
    "| 1/20  |  11 AM | Determine a time and day for weekly meetings | Review the previous project assigned to us |\n",
    "| 1/27  |  11 AM |  Think about possible topic ideas | Decide on a topic and fill out the project proposal |\n",
    "| 2/5  | 11 AM  | Find possible datasets  | Go over datasets and figure out what we collectively have towards our topic, decide roles |\n",
    "| 2/12  | 11 AM  | Import & Wrangle Data (TBD); EDA (TBD) | Review/Edit wrangling/EDA; Discuss Analysis Plan   |\n",
    "| 2/19  | 11 AM  | Finalize wrangling/EDA; Begin Analysis (TBD) | Discuss/edit Analysis; Complete project check-in |\n",
    "| 2/26  | 11 AM  | Project Work| Discuss project work |\n",
    "| 3/5  | 11 AM  | Project Work | Discuss project work |\n",
    "| 3/12 | 11 AM | Project Work | Discuss project work |\n",
    "| 3/19 | 11 AM | Do finishing touches on project | Go over with the whole group and turn it in |"
   ]
  }
 ],
 "metadata": {
  "kernelspec": {
   "display_name": "Python 3",
   "language": "python",
   "name": "python3"
  },
  "language_info": {
   "codemirror_mode": {
    "name": "ipython",
    "version": 3
   },
   "file_extension": ".py",
   "mimetype": "text/x-python",
   "name": "python",
   "nbconvert_exporter": "python",
   "pygments_lexer": "ipython3",
   "version": "3.7.6"
  }
 },
 "nbformat": 4,
 "nbformat_minor": 2
}
